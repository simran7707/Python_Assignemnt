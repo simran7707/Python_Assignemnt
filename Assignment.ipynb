{
  "nbformat": 4,
  "nbformat_minor": 0,
  "metadata": {
    "colab": {
      "provenance": []
    },
    "kernelspec": {
      "name": "python3",
      "display_name": "Python 3"
    },
    "language_info": {
      "name": "python"
    }
  },
  "cells": [
    {
      "cell_type": "code",
      "execution_count": null,
      "metadata": {
        "colab": {
          "base_uri": "https://localhost:8080/"
        },
        "id": "4WkXBoaJThRj",
        "outputId": "bd438fd4-af8d-46b8-bbf6-9f090de7b18a"
      },
      "outputs": [
        {
          "output_type": "stream",
          "name": "stdout",
          "text": [
            "No articles found\n"
          ]
        }
      ],
      "source": [
        "import requests\n",
        "from bs4 import BeautifulSoup\n",
        "import csv\n",
        "\n",
        "def scrape_cnn_articles():\n",
        "    url = \"https://www.cnn.com/world\"\n",
        "    response = requests.get(url)\n",
        "    soup = BeautifulSoup(response.content, 'html.parser')\n",
        "\n",
        "    articles = []\n",
        "\n",
        "    # CNN might use broader containers like 'article' or specific classes\n",
        "    for container in soup.find_all('article'):  # Adjust the tag if necessary\n",
        "        headline_tag = container.find('h1', class_='headline__text')\n",
        "        link_tag = container.find('a')\n",
        "        if headline_tag and link_tag:\n",
        "            title = headline_tag.get_text().strip()\n",
        "            link = link_tag['href']\n",
        "            if not link.startswith('http'):\n",
        "                link = 'https://www.cnn.com' + link\n",
        "            articles.append((title, link))\n",
        "\n",
        "    return articles\n",
        "\n",
        "def save_to_csv(articles, filename):\n",
        "    with open(filename, mode='w', newline='', encoding='utf-8') as file:\n",
        "        writer = csv.writer(file)\n",
        "        writer.writerow(['Title', 'URL'])\n",
        "        writer.writerows(articles)\n",
        "\n",
        "if __name__ == \"__main__\":\n",
        "    articles = scrape_cnn_articles()\n",
        "    if articles:\n",
        "        save_to_csv(articles, 'cnn_articles.csv')\n",
        "        print(f\"Saved {len(articles)} articles to cnn_articles.csv\")\n",
        "    else:\n",
        "        print(\"No articles found\")\n"
      ]
    },
    {
      "cell_type": "markdown",
      "source": [
        "Q2"
      ],
      "metadata": {
        "id": "ibRYlWBjhDcz"
      }
    },
    {
      "cell_type": "code",
      "source": [
        "import pandas as pd\n",
        "import re\n",
        "\n",
        "\n",
        "def is_valid_email(email):\n",
        "    email_regex = re.compile(r'^[\\w\\.-]+@[\\w\\.-]+\\.\\w+$')\n",
        "    return bool(email_regex.match(email))\n",
        "\n",
        "input_file = 'input_users.csv'\n",
        "output_file = 'cleaned_users.csv'\n",
        "df = pd.read_csv(input_file)\n",
        "\n",
        "\n",
        "df.drop_duplicates(subset='user_id', inplace=True)\n",
        "\n",
        "\n",
        "df = df[df['email'].apply(is_valid_email)]\n",
        "\n",
        "\n",
        "df.to_csv(output_file, index=False)\n",
        "\n",
        "print(f\"Cleaned data has been written to {output_file}\")\n"
      ],
      "metadata": {
        "id": "PQUWZUP4UCuS"
      },
      "execution_count": null,
      "outputs": []
    },
    {
      "cell_type": "markdown",
      "source": [
        "Q3"
      ],
      "metadata": {
        "id": "w12ifGy8jBm_"
      }
    },
    {
      "cell_type": "code",
      "source": [
        "from django.db import models\n",
        "from django.utils import timezone\n",
        "from django.db.models import Sum\n",
        "from datetime import timedelta\n",
        "\n",
        "class Customer(models.Model):\n",
        "    name = models.CharField(max_length=255)\n",
        "    email = models.EmailField(unique=True)\n",
        "\n",
        "\n",
        "class Order(models.Model):\n",
        "    STATUS_CHOICES = (\n",
        "        ('P', 'Pending'),\n",
        "        ('C', 'Completed'),\n",
        "        ('F', 'Failed'),\n",
        "    )\n",
        "    customer = models.ForeignKey(Customer, on_delete=models.CASCADE)\n",
        "    order_date = models.DateTimeField()\n",
        "    status = models.CharField(max_length=1, choices=STATUS_CHOICES)\n",
        "    total_amount = models.DecimalField(max_digits=10, decimal_places=2)\n",
        "\n",
        "    @staticmethod\n",
        "    def top_customers(last_n_months=6, top_n=5):\n",
        "        six_months_ago = timezone.now() - timedelta(days=last_n_months * 30)\n",
        "        return (Order.objects.filter(order_date__gte=six_months_ago, status='C')\n",
        "                .values('customer')\n",
        "                .annotate(total_spent=Sum('total_amount'))\n",
        "                .order_by('-total_spent')[:top_n])\n"
      ],
      "metadata": {
        "id": "8Zxe7_KihQol"
      },
      "execution_count": null,
      "outputs": []
    },
    {
      "cell_type": "markdown",
      "source": [
        "How we can use it"
      ],
      "metadata": {
        "id": "nO-XOsSNjle3"
      }
    },
    {
      "cell_type": "code",
      "source": [
        "from django.shortcuts import render\n",
        "from .models import Order\n",
        "\n",
        "def top_customers_view(request):\n",
        "    top_customers = Order.top_customers()\n",
        "\n",
        "    context = {\n",
        "        'top_customers': top_customers,\n",
        "    }\n",
        "    return render(request, 'top_customers.html', context)\n"
      ],
      "metadata": {
        "id": "4hzAojGBjjvY"
      },
      "execution_count": null,
      "outputs": []
    },
    {
      "cell_type": "code",
      "source": [
        "## Template\n",
        "\n",
        "<!-- top_customers.html -->\n",
        "\n",
        "<!DOCTYPE html>\n",
        "<html>\n",
        "<head>\n",
        "    <title>Top Customers</title>\n",
        "</head>\n",
        "<body>\n",
        "    <h1>Top 5 Customers Who Spent the Most in the Last 6 Months</h1>\n",
        "    <ul>\n",
        "        {% for customer in top_customers %}\n",
        "            <li>Customer ID: {{ customer.customer }}, Total Spent: ${{ customer.total_spent }}</li>\n",
        "        {% endfor %}\n",
        "    </ul>\n",
        "</body>\n",
        "</html>\n"
      ],
      "metadata": {
        "id": "bH_0SfowjtkW"
      },
      "execution_count": null,
      "outputs": []
    },
    {
      "cell_type": "markdown",
      "source": [
        "Q4"
      ],
      "metadata": {
        "id": "V0Ke-2SXjHh6"
      }
    },
    {
      "cell_type": "code",
      "source": [
        "import time\n",
        "from collections import defaultdict, deque\n",
        "from threading import Lock\n",
        "\n",
        "class RateLimiter:\n",
        "    def __init__(self, max_requests, time_window):\n",
        "        self.max_requests = max_requests\n",
        "        self.time_window = time_window\n",
        "        self.requests = defaultdict(deque)\n",
        "        self.locks = defaultdict(Lock)\n",
        "\n",
        "    def allow_request(self, user_id):\n",
        "        current_time = time.time()\n",
        "        with self.locks[user_id]:\n",
        "            user_requests = self.requests[user_id]\n",
        "            # Remove requests that are outside the time window\n",
        "            while user_requests and user_requests[0] < current_time - self.time_window:\n",
        "                user_requests.popleft()\n",
        "            if len(user_requests) < self.max_requests:\n",
        "                user_requests.append(current_time)\n",
        "                return True\n",
        "            else:\n",
        "                return False\n",
        "\n",
        ":\n",
        "rate_limiter = RateLimiter(max_requests=5, time_window=60)\n",
        "\n",
        "user_id = 'user_123'\n",
        "if rate_limiter.allow_request(user_id):\n",
        "    print(\"Request allowed\")\n",
        "else:\n",
        "    print(\"Request denied\")\n"
      ],
      "metadata": {
        "id": "oPT2_tynjHBl"
      },
      "execution_count": null,
      "outputs": []
    },
    {
      "cell_type": "markdown",
      "source": [
        "Q5\n"
      ],
      "metadata": {
        "id": "SP6pmtEBkTQ7"
      }
    },
    {
      "cell_type": "code",
      "source": [
        "from typing import List, Dict, Callable, Any\n",
        "\n",
        "def aggregate_data(data: List[Dict], key: str, aggregator: Callable[[List[Any]], Any]) -> Dict[Any, Any]:\n",
        "    grouped_data = {}\n",
        "    for item in data:\n",
        "        group_key = item.get(key)\n",
        "        if group_key not in grouped_data:\n",
        "            grouped_data[group_key] = []\n",
        "        grouped_data[group_key].append(item[key])\n",
        "\n",
        "    return {k: aggregator(v) for k, v in grouped_data.items()}\n",
        "\n",
        "\n",
        "if __name__ == \"__main__\":\n",
        "    from statistics import mean\n",
        "\n",
        "    data = [\n",
        "        {\"category\": \"A\", \"value\": 10},\n",
        "        {\"category\": \"B\", \"value\": 20},\n",
        "        {\"category\": \"A\", \"value\": 30},\n",
        "        {\"category\": \"B\", \"value\": 40},\n",
        "        {\"category\": \"A\", \"value\": 50},\n",
        "    ]\n",
        "\n",
        "    key = \"category\"\n",
        "\n",
        "    def sum_aggregator(values: List[Any]) -> Any:\n",
        "        return sum(values)\n",
        "\n",
        "    def mean_aggregator(values: List[Any]) -> Any:\n",
        "        return mean(values)\n",
        "\n",
        "    result_sum = aggregate_data(data, 'value', sum_aggregator)\n",
        "    print(f\"Sum Aggregation: {result_sum}\")\n",
        "\n",
        "    result_mean = aggregate_data(data, 'value', mean_aggregator)\n",
        "    print(f\"Mean Aggregation: {result_mean}\")\n"
      ],
      "metadata": {
        "id": "BRssBV_3jHJk"
      },
      "execution_count": null,
      "outputs": []
    },
    {
      "cell_type": "markdown",
      "source": [
        "Q6\n"
      ],
      "metadata": {
        "id": "tpRhsa92knJp"
      }
    },
    {
      "cell_type": "code",
      "source": [
        "def find_duplicate(nums):\n",
        "\n",
        "    tortoise = nums[0]\n",
        "    hare = nums[0]\n",
        "\n",
        "    while True:\n",
        "        tortoise = nums[tortoise]\n",
        "        hare = nums[nums[hare]]\n",
        "        if tortoise == hare:\n",
        "            break\n",
        "\n",
        "\n",
        "    ptr1 = nums[0]\n",
        "    ptr2 = hare\n",
        "\n",
        "    while ptr1 != ptr2:\n",
        "        ptr1 = nums[ptr1]\n",
        "        ptr2 = nums[ptr2]\n",
        "\n",
        "    return ptr1\n",
        "\n",
        "\n",
        "nums = [1, 3, 4, 2, 2]\n",
        "print(find_duplicate(nums))\n"
      ],
      "metadata": {
        "colab": {
          "base_uri": "https://localhost:8080/"
        },
        "id": "_VJIUX2okpFw",
        "outputId": "2b79e832-546d-448a-c00a-e9bfd66ef1be"
      },
      "execution_count": 2,
      "outputs": [
        {
          "output_type": "stream",
          "name": "stdout",
          "text": [
            "2\n"
          ]
        }
      ]
    },
    {
      "cell_type": "code",
      "source": [],
      "metadata": {
        "id": "gjirw5qEkpN4"
      },
      "execution_count": null,
      "outputs": []
    }
  ]
}